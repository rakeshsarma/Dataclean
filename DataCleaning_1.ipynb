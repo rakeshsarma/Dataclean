{
 "cells": [
  {
   "cell_type": "markdown",
   "metadata": {},
   "source": [
    "### This notebook gives you a taste of data cleaning.\n",
    "I will show you how data cleaning is done on NFL dataset. \n",
    "The data dictionary can be found [here](https://www.kaggle.com/maxhorowitz/nflplaybyplay2009to2016/data). Click on Column metadata. The file that I am using is __NFL Play by Play 2009-2017 (v4).csv__"
   ]
  },
  {
   "cell_type": "code",
   "execution_count": 93,
   "metadata": {
    "collapsed": true
   },
   "outputs": [],
   "source": [
    "import pandas as pd\n",
    "import numpy as np\n",
    "import os"
   ]
  },
  {
   "cell_type": "code",
   "execution_count": 40,
   "metadata": {
    "collapsed": false
   },
   "outputs": [
    {
     "data": {
      "text/plain": [
       "999"
      ]
     },
     "execution_count": 40,
     "metadata": {},
     "output_type": "execute_result"
    }
   ],
   "source": [
    "pd.options.display.max_rows "
   ]
  },
  {
   "cell_type": "markdown",
   "metadata": {},
   "source": [
    "#### This prints the max rows that the notebook can display at one go. This should not be changed normally. But we have 102 columns in the dataset, so I want to set it to the 999 so that we can see all the rows"
   ]
  },
  {
   "cell_type": "code",
   "execution_count": 41,
   "metadata": {
    "collapsed": true
   },
   "outputs": [],
   "source": [
    "pd.options.display.max_rows = 999"
   ]
  },
  {
   "cell_type": "code",
   "execution_count": 32,
   "metadata": {
    "collapsed": false
   },
   "outputs": [
    {
     "name": "stdout",
     "output_type": "stream",
     "text": [
      "/Users/raki/Kaggle/Data Cleaning/nflplaybyplay2009to2016/NFL Play by Play 2009-2017 (v4).csv\n"
     ]
    }
   ],
   "source": [
    "os.getcwd()\n",
    "filepath = \"/Users/raki/Kaggle/Data Cleaning/nflplaybyplay2009to2016/NFL Play by Play 2009-2017 (v4).csv\"\n",
    "print filepath"
   ]
  },
  {
   "cell_type": "code",
   "execution_count": 48,
   "metadata": {
    "collapsed": false
   },
   "outputs": [
    {
     "data": {
      "text/plain": [
       "(407688, 102)"
      ]
     },
     "execution_count": 48,
     "metadata": {},
     "output_type": "execute_result"
    }
   ],
   "source": [
    "df1 = pd.read_csv(filepath)\n",
    "df1.shape\n"
   ]
  },
  {
   "cell_type": "code",
   "execution_count": 42,
   "metadata": {
    "collapsed": false
   },
   "outputs": [],
   "source": [
    "df = pd.read_csv(filepath, usecols = [0,1,2,3,4,5,6,7,8,9,10])"
   ]
  },
  {
   "cell_type": "markdown",
   "metadata": {},
   "source": [
    "#### Load only first 11 columns if your computer RAM is low. I too am using first 11 columns\n",
    "using the following code<br>\n",
    "df = pd.read_csv(filepath, usecols = [0,1,2,3,4,5,6,7,8,9,10])<br>\n",
    "You might also get low_memory=False error, dont worry by default low_memory is always false"
   ]
  },
  {
   "cell_type": "code",
   "execution_count": 80,
   "metadata": {
    "collapsed": false
   },
   "outputs": [
    {
     "name": "stdout",
     "output_type": "stream",
     "text": [
      "(407688, 102)\n"
     ]
    }
   ],
   "source": [
    "#Gets the shape of the dataset\n",
    "print df1.shape\n",
    "#The format is like (Rows, columns)\n",
    "no_of_rows = df1.shape[0]\n",
    "no_of_cols = df1.shape[1]"
   ]
  },
  {
   "cell_type": "code",
   "execution_count": 81,
   "metadata": {
    "collapsed": false
   },
   "outputs": [
    {
     "data": {
      "text/plain": [
       "Date                            object\n",
       "GameID                           int64\n",
       "Drive                            int64\n",
       "qtr                              int64\n",
       "down                           float64\n",
       "time                            object\n",
       "TimeUnder                        int64\n",
       "TimeSecs                       float64\n",
       "PlayTimeDiff                   float64\n",
       "SideofField                     object\n",
       "yrdln                          float64\n",
       "yrdline100                     float64\n",
       "ydstogo                          int64\n",
       "ydsnet                           int64\n",
       "GoalToGo                       float64\n",
       "FirstDown                      float64\n",
       "posteam                         object\n",
       "DefensiveTeam                   object\n",
       "desc                            object\n",
       "PlayAttempted                    int64\n",
       "Yards.Gained                     int64\n",
       "sp                               int64\n",
       "Touchdown                        int64\n",
       "ExPointResult                   object\n",
       "TwoPointConv                    object\n",
       "DefTwoPoint                     object\n",
       "Safety                           int64\n",
       "Onsidekick                       int64\n",
       "PuntResult                      object\n",
       "PlayType                        object\n",
       "Passer                          object\n",
       "Passer_ID                       object\n",
       "PassAttempt                      int64\n",
       "PassOutcome                     object\n",
       "PassLength                      object\n",
       "AirYards                         int64\n",
       "YardsAfterCatch                  int64\n",
       "QBHit                            int64\n",
       "PassLocation                    object\n",
       "InterceptionThrown               int64\n",
       "Interceptor                     object\n",
       "Rusher                          object\n",
       "Rusher_ID                       object\n",
       "RushAttempt                      int64\n",
       "RunLocation                     object\n",
       "RunGap                          object\n",
       "Receiver                        object\n",
       "Receiver_ID                     object\n",
       "Reception                        int64\n",
       "ReturnResult                    object\n",
       "Returner                        object\n",
       "BlockingPlayer                  object\n",
       "Tackler1                        object\n",
       "Tackler2                        object\n",
       "FieldGoalResult                 object\n",
       "FieldGoalDistance              float64\n",
       "Fumble                           int64\n",
       "RecFumbTeam                     object\n",
       "RecFumbPlayer                   object\n",
       "Sack                             int64\n",
       "Challenge.Replay                 int64\n",
       "ChalReplayResult                object\n",
       "Accepted.Penalty                 int64\n",
       "PenalizedTeam                   object\n",
       "PenaltyType                     object\n",
       "PenalizedPlayer                 object\n",
       "Penalty.Yards                    int64\n",
       "PosTeamScore                   float64\n",
       "DefTeamScore                   float64\n",
       "ScoreDiff                      float64\n",
       "AbsScoreDiff                   float64\n",
       "HomeTeam                        object\n",
       "AwayTeam                        object\n",
       "Timeout_Indicator                int64\n",
       "Timeout_Team                    object\n",
       "posteam_timeouts_pre             int64\n",
       "HomeTimeouts_Remaining_Pre       int64\n",
       "AwayTimeouts_Remaining_Pre       int64\n",
       "HomeTimeouts_Remaining_Post      int64\n",
       "AwayTimeouts_Remaining_Post      int64\n",
       "No_Score_Prob                  float64\n",
       "Opp_Field_Goal_Prob            float64\n",
       "Opp_Safety_Prob                float64\n",
       "Opp_Touchdown_Prob             float64\n",
       "Field_Goal_Prob                float64\n",
       "Safety_Prob                    float64\n",
       "Touchdown_Prob                 float64\n",
       "ExPoint_Prob                   float64\n",
       "TwoPoint_Prob                  float64\n",
       "ExpPts                         float64\n",
       "EPA                            float64\n",
       "airEPA                         float64\n",
       "yacEPA                         float64\n",
       "Home_WP_pre                    float64\n",
       "Away_WP_pre                    float64\n",
       "Home_WP_post                   float64\n",
       "Away_WP_post                   float64\n",
       "Win_Prob                       float64\n",
       "WPA                            float64\n",
       "airWPA                         float64\n",
       "yacWPA                         float64\n",
       "Season                           int64\n",
       "dtype: object"
      ]
     },
     "execution_count": 81,
     "metadata": {},
     "output_type": "execute_result"
    }
   ],
   "source": [
    "#Get the data types of the columns in the dataset\n",
    "df1.dtypes \n",
    "# If pd.options.display.max_rows were less than 102 this will not display all the columns. \n",
    "#This is useful if you're working will all 102 cols"
   ]
  },
  {
   "cell_type": "code",
   "execution_count": 82,
   "metadata": {
    "collapsed": false
   },
   "outputs": [
    {
     "data": {
      "text/html": [
       "<div>\n",
       "<style scoped>\n",
       "    .dataframe tbody tr th:only-of-type {\n",
       "        vertical-align: middle;\n",
       "    }\n",
       "\n",
       "    .dataframe tbody tr th {\n",
       "        vertical-align: top;\n",
       "    }\n",
       "\n",
       "    .dataframe thead th {\n",
       "        text-align: right;\n",
       "    }\n",
       "</style>\n",
       "<table border=\"1\" class=\"dataframe\">\n",
       "  <thead>\n",
       "    <tr style=\"text-align: right;\">\n",
       "      <th></th>\n",
       "      <th>Date</th>\n",
       "      <th>GameID</th>\n",
       "      <th>Drive</th>\n",
       "      <th>qtr</th>\n",
       "      <th>down</th>\n",
       "      <th>time</th>\n",
       "      <th>TimeUnder</th>\n",
       "      <th>TimeSecs</th>\n",
       "      <th>PlayTimeDiff</th>\n",
       "      <th>SideofField</th>\n",
       "      <th>...</th>\n",
       "      <th>yacEPA</th>\n",
       "      <th>Home_WP_pre</th>\n",
       "      <th>Away_WP_pre</th>\n",
       "      <th>Home_WP_post</th>\n",
       "      <th>Away_WP_post</th>\n",
       "      <th>Win_Prob</th>\n",
       "      <th>WPA</th>\n",
       "      <th>airWPA</th>\n",
       "      <th>yacWPA</th>\n",
       "      <th>Season</th>\n",
       "    </tr>\n",
       "  </thead>\n",
       "  <tbody>\n",
       "    <tr>\n",
       "      <th>0</th>\n",
       "      <td>2009-09-10</td>\n",
       "      <td>2009091000</td>\n",
       "      <td>1</td>\n",
       "      <td>1</td>\n",
       "      <td>NaN</td>\n",
       "      <td>15:00</td>\n",
       "      <td>15</td>\n",
       "      <td>3600.0</td>\n",
       "      <td>0.0</td>\n",
       "      <td>TEN</td>\n",
       "      <td>...</td>\n",
       "      <td>NaN</td>\n",
       "      <td>0.485675</td>\n",
       "      <td>0.514325</td>\n",
       "      <td>0.546433</td>\n",
       "      <td>0.453567</td>\n",
       "      <td>0.485675</td>\n",
       "      <td>0.060758</td>\n",
       "      <td>NaN</td>\n",
       "      <td>NaN</td>\n",
       "      <td>2009</td>\n",
       "    </tr>\n",
       "    <tr>\n",
       "      <th>1</th>\n",
       "      <td>2009-09-10</td>\n",
       "      <td>2009091000</td>\n",
       "      <td>1</td>\n",
       "      <td>1</td>\n",
       "      <td>1.0</td>\n",
       "      <td>14:53</td>\n",
       "      <td>15</td>\n",
       "      <td>3593.0</td>\n",
       "      <td>7.0</td>\n",
       "      <td>PIT</td>\n",
       "      <td>...</td>\n",
       "      <td>1.146076</td>\n",
       "      <td>0.546433</td>\n",
       "      <td>0.453567</td>\n",
       "      <td>0.551088</td>\n",
       "      <td>0.448912</td>\n",
       "      <td>0.546433</td>\n",
       "      <td>0.004655</td>\n",
       "      <td>-0.032244</td>\n",
       "      <td>0.036899</td>\n",
       "      <td>2009</td>\n",
       "    </tr>\n",
       "    <tr>\n",
       "      <th>2</th>\n",
       "      <td>2009-09-10</td>\n",
       "      <td>2009091000</td>\n",
       "      <td>1</td>\n",
       "      <td>1</td>\n",
       "      <td>2.0</td>\n",
       "      <td>14:16</td>\n",
       "      <td>15</td>\n",
       "      <td>3556.0</td>\n",
       "      <td>37.0</td>\n",
       "      <td>PIT</td>\n",
       "      <td>...</td>\n",
       "      <td>NaN</td>\n",
       "      <td>0.551088</td>\n",
       "      <td>0.448912</td>\n",
       "      <td>0.510793</td>\n",
       "      <td>0.489207</td>\n",
       "      <td>0.551088</td>\n",
       "      <td>-0.040295</td>\n",
       "      <td>NaN</td>\n",
       "      <td>NaN</td>\n",
       "      <td>2009</td>\n",
       "    </tr>\n",
       "    <tr>\n",
       "      <th>3</th>\n",
       "      <td>2009-09-10</td>\n",
       "      <td>2009091000</td>\n",
       "      <td>1</td>\n",
       "      <td>1</td>\n",
       "      <td>3.0</td>\n",
       "      <td>13:35</td>\n",
       "      <td>14</td>\n",
       "      <td>3515.0</td>\n",
       "      <td>41.0</td>\n",
       "      <td>PIT</td>\n",
       "      <td>...</td>\n",
       "      <td>-5.031425</td>\n",
       "      <td>0.510793</td>\n",
       "      <td>0.489207</td>\n",
       "      <td>0.461217</td>\n",
       "      <td>0.538783</td>\n",
       "      <td>0.510793</td>\n",
       "      <td>-0.049576</td>\n",
       "      <td>0.106663</td>\n",
       "      <td>-0.156239</td>\n",
       "      <td>2009</td>\n",
       "    </tr>\n",
       "    <tr>\n",
       "      <th>4</th>\n",
       "      <td>2009-09-10</td>\n",
       "      <td>2009091000</td>\n",
       "      <td>1</td>\n",
       "      <td>1</td>\n",
       "      <td>4.0</td>\n",
       "      <td>13:27</td>\n",
       "      <td>14</td>\n",
       "      <td>3507.0</td>\n",
       "      <td>8.0</td>\n",
       "      <td>PIT</td>\n",
       "      <td>...</td>\n",
       "      <td>NaN</td>\n",
       "      <td>0.461217</td>\n",
       "      <td>0.538783</td>\n",
       "      <td>0.558929</td>\n",
       "      <td>0.441071</td>\n",
       "      <td>0.461217</td>\n",
       "      <td>0.097712</td>\n",
       "      <td>NaN</td>\n",
       "      <td>NaN</td>\n",
       "      <td>2009</td>\n",
       "    </tr>\n",
       "    <tr>\n",
       "      <th>5</th>\n",
       "      <td>2009-09-10</td>\n",
       "      <td>2009091000</td>\n",
       "      <td>2</td>\n",
       "      <td>1</td>\n",
       "      <td>1.0</td>\n",
       "      <td>13:16</td>\n",
       "      <td>14</td>\n",
       "      <td>3496.0</td>\n",
       "      <td>11.0</td>\n",
       "      <td>TEN</td>\n",
       "      <td>...</td>\n",
       "      <td>NaN</td>\n",
       "      <td>0.558929</td>\n",
       "      <td>0.441071</td>\n",
       "      <td>0.578453</td>\n",
       "      <td>0.421547</td>\n",
       "      <td>0.441071</td>\n",
       "      <td>-0.019524</td>\n",
       "      <td>NaN</td>\n",
       "      <td>NaN</td>\n",
       "      <td>2009</td>\n",
       "    </tr>\n",
       "    <tr>\n",
       "      <th>6</th>\n",
       "      <td>2009-09-10</td>\n",
       "      <td>2009091000</td>\n",
       "      <td>2</td>\n",
       "      <td>1</td>\n",
       "      <td>2.0</td>\n",
       "      <td>12:40</td>\n",
       "      <td>13</td>\n",
       "      <td>3460.0</td>\n",
       "      <td>36.0</td>\n",
       "      <td>TEN</td>\n",
       "      <td>...</td>\n",
       "      <td>0.163935</td>\n",
       "      <td>0.578453</td>\n",
       "      <td>0.421547</td>\n",
       "      <td>0.582881</td>\n",
       "      <td>0.417119</td>\n",
       "      <td>0.421547</td>\n",
       "      <td>-0.004427</td>\n",
       "      <td>-0.010456</td>\n",
       "      <td>0.006029</td>\n",
       "      <td>2009</td>\n",
       "    </tr>\n",
       "    <tr>\n",
       "      <th>7</th>\n",
       "      <td>2009-09-10</td>\n",
       "      <td>2009091000</td>\n",
       "      <td>2</td>\n",
       "      <td>1</td>\n",
       "      <td>3.0</td>\n",
       "      <td>12:11</td>\n",
       "      <td>13</td>\n",
       "      <td>3431.0</td>\n",
       "      <td>29.0</td>\n",
       "      <td>TEN</td>\n",
       "      <td>...</td>\n",
       "      <td>NaN</td>\n",
       "      <td>0.582881</td>\n",
       "      <td>0.417119</td>\n",
       "      <td>0.617544</td>\n",
       "      <td>0.382456</td>\n",
       "      <td>0.417119</td>\n",
       "      <td>-0.034663</td>\n",
       "      <td>NaN</td>\n",
       "      <td>NaN</td>\n",
       "      <td>2009</td>\n",
       "    </tr>\n",
       "  </tbody>\n",
       "</table>\n",
       "<p>8 rows × 102 columns</p>\n",
       "</div>"
      ],
      "text/plain": [
       "         Date      GameID  Drive  qtr  down   time  TimeUnder  TimeSecs  \\\n",
       "0  2009-09-10  2009091000      1    1   NaN  15:00         15    3600.0   \n",
       "1  2009-09-10  2009091000      1    1   1.0  14:53         15    3593.0   \n",
       "2  2009-09-10  2009091000      1    1   2.0  14:16         15    3556.0   \n",
       "3  2009-09-10  2009091000      1    1   3.0  13:35         14    3515.0   \n",
       "4  2009-09-10  2009091000      1    1   4.0  13:27         14    3507.0   \n",
       "5  2009-09-10  2009091000      2    1   1.0  13:16         14    3496.0   \n",
       "6  2009-09-10  2009091000      2    1   2.0  12:40         13    3460.0   \n",
       "7  2009-09-10  2009091000      2    1   3.0  12:11         13    3431.0   \n",
       "\n",
       "   PlayTimeDiff SideofField   ...      yacEPA  Home_WP_pre  Away_WP_pre  \\\n",
       "0           0.0         TEN   ...         NaN     0.485675     0.514325   \n",
       "1           7.0         PIT   ...    1.146076     0.546433     0.453567   \n",
       "2          37.0         PIT   ...         NaN     0.551088     0.448912   \n",
       "3          41.0         PIT   ...   -5.031425     0.510793     0.489207   \n",
       "4           8.0         PIT   ...         NaN     0.461217     0.538783   \n",
       "5          11.0         TEN   ...         NaN     0.558929     0.441071   \n",
       "6          36.0         TEN   ...    0.163935     0.578453     0.421547   \n",
       "7          29.0         TEN   ...         NaN     0.582881     0.417119   \n",
       "\n",
       "   Home_WP_post  Away_WP_post  Win_Prob       WPA    airWPA    yacWPA  Season  \n",
       "0      0.546433      0.453567  0.485675  0.060758       NaN       NaN    2009  \n",
       "1      0.551088      0.448912  0.546433  0.004655 -0.032244  0.036899    2009  \n",
       "2      0.510793      0.489207  0.551088 -0.040295       NaN       NaN    2009  \n",
       "3      0.461217      0.538783  0.510793 -0.049576  0.106663 -0.156239    2009  \n",
       "4      0.558929      0.441071  0.461217  0.097712       NaN       NaN    2009  \n",
       "5      0.578453      0.421547  0.441071 -0.019524       NaN       NaN    2009  \n",
       "6      0.582881      0.417119  0.421547 -0.004427 -0.010456  0.006029    2009  \n",
       "7      0.617544      0.382456  0.417119 -0.034663       NaN       NaN    2009  \n",
       "\n",
       "[8 rows x 102 columns]"
      ]
     },
     "execution_count": 82,
     "metadata": {},
     "output_type": "execute_result"
    }
   ],
   "source": [
    "#See the first 8 rows of the dataset\n",
    "df1.head(n=8)"
   ]
  },
  {
   "cell_type": "markdown",
   "metadata": {},
   "source": [
    "The 5th column __down__ has a __NaN__ right on top. NaN means Not a Number which means that it is a missing value. It makes sense to see how many missing values are there in the dataset. Remember whatever be the number of missing values, do not take action until you understand why the values are missing. <br>[1] If the missing values are because of improper data collection, you can inform your Product team or Engg team about these issues and get them fixed. <br>[2]If the missing values are not collected (not compulsary fields) at all then you should sit with business teams and understand the implications of not having the data. If the values are missing becasue it cannot be collected (such as no_of_children field for an unmarried person) then we need to handle it in a different way. These are some example scenarios only. Take call based on your business need and your intution."
   ]
  },
  {
   "cell_type": "code",
   "execution_count": 83,
   "metadata": {
    "collapsed": false
   },
   "outputs": [
    {
     "data": {
      "text/plain": [
       "True"
      ]
     },
     "execution_count": 83,
     "metadata": {},
     "output_type": "execute_result"
    }
   ],
   "source": [
    "#Another way to find out if there are any missing values in the dataset is to use the following code\n",
    "df1.isnull().values.any()\n",
    "#This only gives if there are any missing values but it will not give you the position of missing values. If the <br>\n",
    "#result is True then there are missing values"
   ]
  },
  {
   "cell_type": "code",
   "execution_count": 84,
   "metadata": {
    "collapsed": false
   },
   "outputs": [
    {
     "data": {
      "text/html": [
       "<div>\n",
       "<style scoped>\n",
       "    .dataframe tbody tr th:only-of-type {\n",
       "        vertical-align: middle;\n",
       "    }\n",
       "\n",
       "    .dataframe tbody tr th {\n",
       "        vertical-align: top;\n",
       "    }\n",
       "\n",
       "    .dataframe thead th {\n",
       "        text-align: right;\n",
       "    }\n",
       "</style>\n",
       "<table border=\"1\" class=\"dataframe\">\n",
       "  <thead>\n",
       "    <tr style=\"text-align: right;\">\n",
       "      <th></th>\n",
       "      <th>Date</th>\n",
       "      <th>GameID</th>\n",
       "      <th>Drive</th>\n",
       "      <th>qtr</th>\n",
       "      <th>down</th>\n",
       "      <th>time</th>\n",
       "      <th>TimeUnder</th>\n",
       "      <th>TimeSecs</th>\n",
       "      <th>PlayTimeDiff</th>\n",
       "      <th>SideofField</th>\n",
       "      <th>...</th>\n",
       "      <th>yacEPA</th>\n",
       "      <th>Home_WP_pre</th>\n",
       "      <th>Away_WP_pre</th>\n",
       "      <th>Home_WP_post</th>\n",
       "      <th>Away_WP_post</th>\n",
       "      <th>Win_Prob</th>\n",
       "      <th>WPA</th>\n",
       "      <th>airWPA</th>\n",
       "      <th>yacWPA</th>\n",
       "      <th>Season</th>\n",
       "    </tr>\n",
       "  </thead>\n",
       "  <tbody>\n",
       "    <tr>\n",
       "      <th>244129</th>\n",
       "      <td>2014-10-23</td>\n",
       "      <td>2014102300</td>\n",
       "      <td>14</td>\n",
       "      <td>3</td>\n",
       "      <td>NaN</td>\n",
       "      <td>07:34</td>\n",
       "      <td>8</td>\n",
       "      <td>1354.0</td>\n",
       "      <td>4.0</td>\n",
       "      <td>SD</td>\n",
       "      <td>...</td>\n",
       "      <td>NaN</td>\n",
       "      <td>0.973298</td>\n",
       "      <td>0.026702</td>\n",
       "      <td>0.968221</td>\n",
       "      <td>0.031779</td>\n",
       "      <td>0.973298</td>\n",
       "      <td>-0.005077</td>\n",
       "      <td>NaN</td>\n",
       "      <td>NaN</td>\n",
       "      <td>2014</td>\n",
       "    </tr>\n",
       "    <tr>\n",
       "      <th>89993</th>\n",
       "      <td>2011-09-11</td>\n",
       "      <td>2011091106</td>\n",
       "      <td>14</td>\n",
       "      <td>3</td>\n",
       "      <td>3.0</td>\n",
       "      <td>05:27</td>\n",
       "      <td>6</td>\n",
       "      <td>1227.0</td>\n",
       "      <td>44.0</td>\n",
       "      <td>TB</td>\n",
       "      <td>...</td>\n",
       "      <td>NaN</td>\n",
       "      <td>0.084666</td>\n",
       "      <td>0.915334</td>\n",
       "      <td>0.070709</td>\n",
       "      <td>0.929291</td>\n",
       "      <td>0.084666</td>\n",
       "      <td>-0.013957</td>\n",
       "      <td>NaN</td>\n",
       "      <td>NaN</td>\n",
       "      <td>2011</td>\n",
       "    </tr>\n",
       "    <tr>\n",
       "      <th>161404</th>\n",
       "      <td>2012-11-18</td>\n",
       "      <td>2012111800</td>\n",
       "      <td>13</td>\n",
       "      <td>3</td>\n",
       "      <td>1.0</td>\n",
       "      <td>15:00</td>\n",
       "      <td>15</td>\n",
       "      <td>1800.0</td>\n",
       "      <td>0.0</td>\n",
       "      <td>WAS</td>\n",
       "      <td>...</td>\n",
       "      <td>NaN</td>\n",
       "      <td>0.893864</td>\n",
       "      <td>0.106136</td>\n",
       "      <td>0.883774</td>\n",
       "      <td>0.116226</td>\n",
       "      <td>0.893864</td>\n",
       "      <td>-0.010090</td>\n",
       "      <td>NaN</td>\n",
       "      <td>NaN</td>\n",
       "      <td>2012</td>\n",
       "    </tr>\n",
       "    <tr>\n",
       "      <th>225950</th>\n",
       "      <td>2014-09-07</td>\n",
       "      <td>2014090707</td>\n",
       "      <td>22</td>\n",
       "      <td>3</td>\n",
       "      <td>2.0</td>\n",
       "      <td>05:30</td>\n",
       "      <td>6</td>\n",
       "      <td>1230.0</td>\n",
       "      <td>7.0</td>\n",
       "      <td>JAC</td>\n",
       "      <td>...</td>\n",
       "      <td>-4.681813</td>\n",
       "      <td>0.432251</td>\n",
       "      <td>0.567749</td>\n",
       "      <td>0.453966</td>\n",
       "      <td>0.546034</td>\n",
       "      <td>0.567749</td>\n",
       "      <td>-0.021715</td>\n",
       "      <td>0.138774</td>\n",
       "      <td>-0.160489</td>\n",
       "      <td>2014</td>\n",
       "    </tr>\n",
       "    <tr>\n",
       "      <th>326869</th>\n",
       "      <td>2016-10-02</td>\n",
       "      <td>2016100203</td>\n",
       "      <td>11</td>\n",
       "      <td>2</td>\n",
       "      <td>2.0</td>\n",
       "      <td>00:54</td>\n",
       "      <td>1</td>\n",
       "      <td>1854.0</td>\n",
       "      <td>43.0</td>\n",
       "      <td>DET</td>\n",
       "      <td>...</td>\n",
       "      <td>NaN</td>\n",
       "      <td>0.723496</td>\n",
       "      <td>0.276504</td>\n",
       "      <td>0.710500</td>\n",
       "      <td>0.289500</td>\n",
       "      <td>0.723496</td>\n",
       "      <td>-0.012996</td>\n",
       "      <td>NaN</td>\n",
       "      <td>NaN</td>\n",
       "      <td>2016</td>\n",
       "    </tr>\n",
       "  </tbody>\n",
       "</table>\n",
       "<p>5 rows × 102 columns</p>\n",
       "</div>"
      ],
      "text/plain": [
       "              Date      GameID  Drive  qtr  down   time  TimeUnder  TimeSecs  \\\n",
       "244129  2014-10-23  2014102300     14    3   NaN  07:34          8    1354.0   \n",
       "89993   2011-09-11  2011091106     14    3   3.0  05:27          6    1227.0   \n",
       "161404  2012-11-18  2012111800     13    3   1.0  15:00         15    1800.0   \n",
       "225950  2014-09-07  2014090707     22    3   2.0  05:30          6    1230.0   \n",
       "326869  2016-10-02  2016100203     11    2   2.0  00:54          1    1854.0   \n",
       "\n",
       "        PlayTimeDiff SideofField   ...      yacEPA  Home_WP_pre  Away_WP_pre  \\\n",
       "244129           4.0          SD   ...         NaN     0.973298     0.026702   \n",
       "89993           44.0          TB   ...         NaN     0.084666     0.915334   \n",
       "161404           0.0         WAS   ...         NaN     0.893864     0.106136   \n",
       "225950           7.0         JAC   ...   -4.681813     0.432251     0.567749   \n",
       "326869          43.0         DET   ...         NaN     0.723496     0.276504   \n",
       "\n",
       "        Home_WP_post  Away_WP_post  Win_Prob       WPA    airWPA    yacWPA  \\\n",
       "244129      0.968221      0.031779  0.973298 -0.005077       NaN       NaN   \n",
       "89993       0.070709      0.929291  0.084666 -0.013957       NaN       NaN   \n",
       "161404      0.883774      0.116226  0.893864 -0.010090       NaN       NaN   \n",
       "225950      0.453966      0.546034  0.567749 -0.021715  0.138774 -0.160489   \n",
       "326869      0.710500      0.289500  0.723496 -0.012996       NaN       NaN   \n",
       "\n",
       "        Season  \n",
       "244129    2014  \n",
       "89993     2011  \n",
       "161404    2012  \n",
       "225950    2014  \n",
       "326869    2016  \n",
       "\n",
       "[5 rows x 102 columns]"
      ]
     },
     "execution_count": 84,
     "metadata": {},
     "output_type": "execute_result"
    }
   ],
   "source": [
    "#Earlier we looked at head(n=8) command, It only gives the first n values in the dataset.\n",
    "df1.sample(5)\n",
    "#Sample gives a random 5 rows in the dataset. Experiment with number in bracket"
   ]
  },
  {
   "cell_type": "markdown",
   "metadata": {},
   "source": [
    "Now that we know that there are some missing values in the dataset.<br> \n",
    "Lets look at how many missing calues are there in the dataset"
   ]
  },
  {
   "cell_type": "code",
   "execution_count": 85,
   "metadata": {
    "collapsed": false
   },
   "outputs": [
    {
     "name": "stdout",
     "output_type": "stream",
     "text": [
      "10342875\n"
     ]
    }
   ],
   "source": [
    "tot_missing_values = df1.isnull().values.sum()\n",
    "print tot_missing_values"
   ]
  },
  {
   "cell_type": "markdown",
   "metadata": {},
   "source": [
    "That is huge number. Lets find out no of missing values in each column. Lets find out the percent of missing values"
   ]
  },
  {
   "cell_type": "code",
   "execution_count": 90,
   "metadata": {
    "collapsed": false
   },
   "outputs": [
    {
     "name": "stdout",
     "output_type": "stream",
     "text": [
      "24.8721412684\n"
     ]
    }
   ],
   "source": [
    "missing_values_percent = (tot_missing_values)/float(np.product(df1.shape))\n",
    "print missing_values_percent*100"
   ]
  },
  {
   "cell_type": "markdown",
   "metadata": {},
   "source": [
    "Around 25% of the rows have atleast one missing value.😱"
   ]
  },
  {
   "cell_type": "code",
   "execution_count": 100,
   "metadata": {
    "collapsed": false
   },
   "outputs": [
    {
     "data": {
      "text/plain": [
       "DefTwoPoint                    407664\n",
       "BlockingPlayer                 407571\n",
       "TwoPointConv                   407083\n",
       "ChalReplayResult               404286\n",
       "RecFumbTeam                    403315\n",
       "RecFumbPlayer                  403315\n",
       "Interceptor                    403168\n",
       "FieldGoalDistance              398740\n",
       "FieldGoalResult                398629\n",
       "ExPointResult                  397578\n",
       "PenaltyType                    391261\n",
       "ReturnResult                   389450\n",
       "PuntResult                     385317\n",
       "Returner                       382384\n",
       "PenalizedPlayer                379403\n",
       "PenalizedTeam                  378189\n",
       "Tackler2                       357953\n",
       "RunGap                         320260\n",
       "RunLocation                    288178\n",
       "Rusher                         287124\n",
       "yacWPA                         248762\n",
       "airWPA                         248501\n",
       "yacEPA                         248498\n",
       "airEPA                         248394\n",
       "Receiver                       246127\n",
       "PassLength                     240520\n",
       "PassLocation                   240520\n",
       "Passer                         240045\n",
       "PassOutcome                    239506\n",
       "Tackler1                       166134\n",
       "down                            61154\n",
       "FirstDown                       28811\n",
       "PosTeamScore                    26904\n",
       "DefTeamScore                    26904\n",
       "AbsScoreDiff                    26904\n",
       "Away_WP_post                    26587\n",
       "Home_WP_post                    26587\n",
       "Win_Prob                        25009\n",
       "DefensiveTeam                   24992\n",
       "posteam                         24992\n",
       "ScoreDiff                       24988\n",
       "Home_WP_pre                     24954\n",
       "Away_WP_pre                     24954\n",
       "WPA                              5541\n",
       "GoalToGo                          840\n",
       "yrdline100                        840\n",
       "yrdln                             840\n",
       "SideofField                       528\n",
       "PlayTimeDiff                      444\n",
       "EPA                               369\n",
       "TimeSecs                          224\n",
       "time                              224\n",
       "Touchdown_Prob                    176\n",
       "Safety_Prob                       176\n",
       "ExpPts                            176\n",
       "Field_Goal_Prob                   176\n",
       "Opp_Touchdown_Prob                176\n",
       "Opp_Safety_Prob                   176\n",
       "Opp_Field_Goal_Prob               176\n",
       "No_Score_Prob                     176\n",
       "desc                                2\n",
       "Touchdown                           0\n",
       "Safety                              0\n",
       "qtr                                 0\n",
       "TimeUnder                           0\n",
       "sp                                  0\n",
       "ydstogo                             0\n",
       "Drive                               0\n",
       "Yards.Gained                        0\n",
       "PlayAttempted                       0\n",
       "GameID                              0\n",
       "ydsnet                              0\n",
       "Onsidekick                          0\n",
       "Season                              0\n",
       "PlayType                            0\n",
       "Passer_ID                           0\n",
       "TwoPoint_Prob                       0\n",
       "ExPoint_Prob                        0\n",
       "AwayTimeouts_Remaining_Post         0\n",
       "HomeTimeouts_Remaining_Post         0\n",
       "AwayTimeouts_Remaining_Pre          0\n",
       "HomeTimeouts_Remaining_Pre          0\n",
       "posteam_timeouts_pre                0\n",
       "Timeout_Team                        0\n",
       "Timeout_Indicator                   0\n",
       "AwayTeam                            0\n",
       "HomeTeam                            0\n",
       "Penalty.Yards                       0\n",
       "Accepted.Penalty                    0\n",
       "Challenge.Replay                    0\n",
       "Sack                                0\n",
       "Fumble                              0\n",
       "Reception                           0\n",
       "Receiver_ID                         0\n",
       "RushAttempt                         0\n",
       "Rusher_ID                           0\n",
       "InterceptionThrown                  0\n",
       "QBHit                               0\n",
       "YardsAfterCatch                     0\n",
       "AirYards                            0\n",
       "PassAttempt                         0\n",
       "Date                                0\n",
       "dtype: int64"
      ]
     },
     "execution_count": 100,
     "metadata": {},
     "output_type": "execute_result"
    }
   ],
   "source": [
    "df1.isnull().sum().sort_values(ascending =False) #lets check the number of values missing in each column"
   ]
  },
  {
   "cell_type": "markdown",
   "metadata": {},
   "source": [
    "Lot of missing values are present in __DefTwoPoint__ column, followed by __BlockingPlayer__. <br>Let us say that we want to delete the row that contains atleast one missing value. Then how many rows do we have to delete?"
   ]
  },
  {
   "cell_type": "code",
   "execution_count": 101,
   "metadata": {
    "collapsed": false
   },
   "outputs": [
    {
     "data": {
      "text/plain": [
       "41584176"
      ]
     },
     "execution_count": 101,
     "metadata": {},
     "output_type": "execute_result"
    }
   ],
   "source": [
    "np.product(df1.shape) #This is multiplying using numpy [off-topic]"
   ]
  },
  {
   "cell_type": "markdown",
   "metadata": {},
   "source": [
    "So how do you handle these missing values? <br>\n",
    "Simple way is to delete the rows that contain the missing values. This is generally not a recomended way. But let us say that you are in a hurry and have to handle missing values right away."
   ]
  },
  {
   "cell_type": "markdown",
   "metadata": {},
   "source": [
    "### One Way: Delete rows/columns containing missing value"
   ]
  },
  {
   "cell_type": "code",
   "execution_count": 107,
   "metadata": {
    "collapsed": false
   },
   "outputs": [
    {
     "data": {
      "text/html": [
       "<div>\n",
       "<style scoped>\n",
       "    .dataframe tbody tr th:only-of-type {\n",
       "        vertical-align: middle;\n",
       "    }\n",
       "\n",
       "    .dataframe tbody tr th {\n",
       "        vertical-align: top;\n",
       "    }\n",
       "\n",
       "    .dataframe thead th {\n",
       "        text-align: right;\n",
       "    }\n",
       "</style>\n",
       "<table border=\"1\" class=\"dataframe\">\n",
       "  <thead>\n",
       "    <tr style=\"text-align: right;\">\n",
       "      <th></th>\n",
       "      <th>Date</th>\n",
       "      <th>GameID</th>\n",
       "      <th>Drive</th>\n",
       "      <th>qtr</th>\n",
       "      <th>down</th>\n",
       "      <th>time</th>\n",
       "      <th>TimeUnder</th>\n",
       "      <th>TimeSecs</th>\n",
       "      <th>PlayTimeDiff</th>\n",
       "      <th>SideofField</th>\n",
       "      <th>...</th>\n",
       "      <th>yacEPA</th>\n",
       "      <th>Home_WP_pre</th>\n",
       "      <th>Away_WP_pre</th>\n",
       "      <th>Home_WP_post</th>\n",
       "      <th>Away_WP_post</th>\n",
       "      <th>Win_Prob</th>\n",
       "      <th>WPA</th>\n",
       "      <th>airWPA</th>\n",
       "      <th>yacWPA</th>\n",
       "      <th>Season</th>\n",
       "    </tr>\n",
       "  </thead>\n",
       "  <tbody>\n",
       "  </tbody>\n",
       "</table>\n",
       "<p>0 rows × 102 columns</p>\n",
       "</div>"
      ],
      "text/plain": [
       "Empty DataFrame\n",
       "Columns: [Date, GameID, Drive, qtr, down, time, TimeUnder, TimeSecs, PlayTimeDiff, SideofField, yrdln, yrdline100, ydstogo, ydsnet, GoalToGo, FirstDown, posteam, DefensiveTeam, desc, PlayAttempted, Yards.Gained, sp, Touchdown, ExPointResult, TwoPointConv, DefTwoPoint, Safety, Onsidekick, PuntResult, PlayType, Passer, Passer_ID, PassAttempt, PassOutcome, PassLength, AirYards, YardsAfterCatch, QBHit, PassLocation, InterceptionThrown, Interceptor, Rusher, Rusher_ID, RushAttempt, RunLocation, RunGap, Receiver, Receiver_ID, Reception, ReturnResult, Returner, BlockingPlayer, Tackler1, Tackler2, FieldGoalResult, FieldGoalDistance, Fumble, RecFumbTeam, RecFumbPlayer, Sack, Challenge.Replay, ChalReplayResult, Accepted.Penalty, PenalizedTeam, PenaltyType, PenalizedPlayer, Penalty.Yards, PosTeamScore, DefTeamScore, ScoreDiff, AbsScoreDiff, HomeTeam, AwayTeam, Timeout_Indicator, Timeout_Team, posteam_timeouts_pre, HomeTimeouts_Remaining_Pre, AwayTimeouts_Remaining_Pre, HomeTimeouts_Remaining_Post, AwayTimeouts_Remaining_Post, No_Score_Prob, Opp_Field_Goal_Prob, Opp_Safety_Prob, Opp_Touchdown_Prob, Field_Goal_Prob, Safety_Prob, Touchdown_Prob, ExPoint_Prob, TwoPoint_Prob, ExpPts, EPA, airEPA, yacEPA, Home_WP_pre, Away_WP_pre, Home_WP_post, Away_WP_post, Win_Prob, WPA, airWPA, ...]\n",
       "Index: []\n",
       "\n",
       "[0 rows x 102 columns]"
      ]
     },
     "execution_count": 107,
     "metadata": {},
     "output_type": "execute_result"
    }
   ],
   "source": [
    "df1.dropna()"
   ]
  },
  {
   "cell_type": "markdown",
   "metadata": {},
   "source": [
    "Looks like that's removed all our data! 😱 This is because every row in our dataset had at least one missing value. We might have better luck removing all the *columns* that have at least one missing value instead"
   ]
  },
  {
   "cell_type": "code",
   "execution_count": 109,
   "metadata": {
    "collapsed": false
   },
   "outputs": [],
   "source": [
    "df3 = df1.dropna(axis=1)# Removing columns that contain atleast one NA"
   ]
  },
  {
   "cell_type": "code",
   "execution_count": 112,
   "metadata": {
    "collapsed": false
   },
   "outputs": [
    {
     "data": {
      "text/plain": [
       "(407688, 41)"
      ]
     },
     "execution_count": 112,
     "metadata": {},
     "output_type": "execute_result"
    }
   ],
   "source": [
    "df3.shape #Removed 61 columns"
   ]
  },
  {
   "cell_type": "markdown",
   "metadata": {},
   "source": [
    "Can you live with that? If you can then go ahead and proceed with the next steps. BTW how much % of data did you lose? "
   ]
  },
  {
   "cell_type": "code",
   "execution_count": 115,
   "metadata": {
    "collapsed": false
   },
   "outputs": [
    {
     "name": "stdout",
     "output_type": "stream",
     "text": [
      "59.8039215686\n"
     ]
    }
   ],
   "source": [
    "data_lost = 61*100/float(102)\n",
    "print data_lost # ~60% of the data is lost. Now did you see the reason why NAs should not be dropped?"
   ]
  },
  {
   "cell_type": "markdown",
   "metadata": {},
   "source": [
    "### Another option is to fill the missing values with zeros"
   ]
  },
  {
   "cell_type": "code",
   "execution_count": 116,
   "metadata": {
    "collapsed": true
   },
   "outputs": [],
   "source": [
    "df4 = df1.fillna(0) # The number in the bracket can be replaced with any number, say 5 or -1."
   ]
  },
  {
   "cell_type": "code",
   "execution_count": 121,
   "metadata": {
    "collapsed": false
   },
   "outputs": [
    {
     "data": {
      "text/plain": [
       "Season                         0\n",
       "QBHit                          0\n",
       "Onsidekick                     0\n",
       "PuntResult                     0\n",
       "PlayType                       0\n",
       "Passer                         0\n",
       "Passer_ID                      0\n",
       "PassAttempt                    0\n",
       "PassOutcome                    0\n",
       "PassLength                     0\n",
       "AirYards                       0\n",
       "YardsAfterCatch                0\n",
       "PassLocation                   0\n",
       "DefTwoPoint                    0\n",
       "InterceptionThrown             0\n",
       "Interceptor                    0\n",
       "Rusher                         0\n",
       "Rusher_ID                      0\n",
       "RushAttempt                    0\n",
       "RunLocation                    0\n",
       "RunGap                         0\n",
       "Receiver                       0\n",
       "Receiver_ID                    0\n",
       "Reception                      0\n",
       "Safety                         0\n",
       "TwoPointConv                   0\n",
       "yacWPA                         0\n",
       "yrdline100                     0\n",
       "GameID                         0\n",
       "Drive                          0\n",
       "qtr                            0\n",
       "down                           0\n",
       "time                           0\n",
       "TimeUnder                      0\n",
       "TimeSecs                       0\n",
       "PlayTimeDiff                   0\n",
       "SideofField                    0\n",
       "yrdln                          0\n",
       "ydstogo                        0\n",
       "ExPointResult                  0\n",
       "ydsnet                         0\n",
       "GoalToGo                       0\n",
       "FirstDown                      0\n",
       "posteam                        0\n",
       "DefensiveTeam                  0\n",
       "desc                           0\n",
       "PlayAttempted                  0\n",
       "Yards.Gained                   0\n",
       "sp                             0\n",
       "Touchdown                      0\n",
       "ReturnResult                   0\n",
       "Returner                       0\n",
       "BlockingPlayer                 0\n",
       "TwoPoint_Prob                  0\n",
       "HomeTimeouts_Remaining_Post    0\n",
       "AwayTimeouts_Remaining_Post    0\n",
       "No_Score_Prob                  0\n",
       "Opp_Field_Goal_Prob            0\n",
       "Opp_Safety_Prob                0\n",
       "Opp_Touchdown_Prob             0\n",
       "Field_Goal_Prob                0\n",
       "Safety_Prob                    0\n",
       "Touchdown_Prob                 0\n",
       "ExPoint_Prob                   0\n",
       "ExpPts                         0\n",
       "Tackler1                       0\n",
       "EPA                            0\n",
       "airEPA                         0\n",
       "yacEPA                         0\n",
       "Home_WP_pre                    0\n",
       "Away_WP_pre                    0\n",
       "Home_WP_post                   0\n",
       "Away_WP_post                   0\n",
       "Win_Prob                       0\n",
       "WPA                            0\n",
       "airWPA                         0\n",
       "AwayTimeouts_Remaining_Pre     0\n",
       "HomeTimeouts_Remaining_Pre     0\n",
       "posteam_timeouts_pre           0\n",
       "Timeout_Team                   0\n",
       "Tackler2                       0\n",
       "FieldGoalResult                0\n",
       "FieldGoalDistance              0\n",
       "Fumble                         0\n",
       "RecFumbTeam                    0\n",
       "RecFumbPlayer                  0\n",
       "Sack                           0\n",
       "Challenge.Replay               0\n",
       "ChalReplayResult               0\n",
       "Accepted.Penalty               0\n",
       "PenalizedTeam                  0\n",
       "PenaltyType                    0\n",
       "PenalizedPlayer                0\n",
       "Penalty.Yards                  0\n",
       "PosTeamScore                   0\n",
       "DefTeamScore                   0\n",
       "ScoreDiff                      0\n",
       "AbsScoreDiff                   0\n",
       "HomeTeam                       0\n",
       "AwayTeam                       0\n",
       "Timeout_Indicator              0\n",
       "Date                           0\n",
       "dtype: int64"
      ]
     },
     "execution_count": 121,
     "metadata": {},
     "output_type": "execute_result"
    }
   ],
   "source": [
    "df4.isnull().sum().sort_values(ascending=False) #Just checking:). All columns have zero NAs"
   ]
  },
  {
   "cell_type": "markdown",
   "metadata": {},
   "source": [
    "We can also replace the missing values with the values that occur in the next row. Replace all NA's the value that comes directly after it in the same column, then replace all the reamining na's with 0. (WoW Fancy Stuff!!)"
   ]
  },
  {
   "cell_type": "code",
   "execution_count": 122,
   "metadata": {
    "collapsed": true
   },
   "outputs": [],
   "source": [
    "df5 = df1.fillna(method=\"bfill\", axis=0).fillna(0)"
   ]
  },
  {
   "cell_type": "markdown",
   "metadata": {},
   "source": [
    "This is a basic level tutorial for imputaion. There is also lot more. You can also use imputer in SK learn. Stay tuned for"
   ]
  },
  {
   "cell_type": "code",
   "execution_count": null,
   "metadata": {
    "collapsed": true
   },
   "outputs": [],
   "source": []
  }
 ],
 "metadata": {
  "kernelspec": {
   "display_name": "Python 2",
   "language": "python",
   "name": "python2"
  },
  "language_info": {
   "codemirror_mode": {
    "name": "ipython",
    "version": 2
   },
   "file_extension": ".py",
   "mimetype": "text/x-python",
   "name": "python",
   "nbconvert_exporter": "python",
   "pygments_lexer": "ipython2",
   "version": "2.7.13"
  }
 },
 "nbformat": 4,
 "nbformat_minor": 2
}
